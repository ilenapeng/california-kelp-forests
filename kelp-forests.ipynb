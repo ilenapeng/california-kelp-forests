{
 "cells": [
  {
   "cell_type": "markdown",
   "id": "42ff5b27",
   "metadata": {},
   "source": [
    "# Kelp data\n",
    "Data on kelp forests in 1988, 1992, 1996, 2000, 2004, 2008, 2014, 2016 and 2019 from McPherson et al.'s 2021 [paper](https://www.nature.com/articles/s42003-021-01827-6)"
   ]
  },
  {
   "cell_type": "code",
   "execution_count": 1,
   "id": "916b7168",
   "metadata": {},
   "outputs": [
    {
     "name": "stderr",
     "output_type": "stream",
     "text": [
      "/Users/ilenapeng/.pyenv/versions/3.9.7/lib/python3.9/site-packages/pandas/compat/__init__.py:124: UserWarning: Could not import the lzma module. Your installed Python is incomplete. Attempting to use lzma compression will result in a RuntimeError.\n",
      "  warnings.warn(msg)\n"
     ]
    }
   ],
   "source": [
    "import pandas as pd\n",
    "import matplotlib.pyplot as plt"
   ]
  },
  {
   "cell_type": "markdown",
   "id": "5dac76cd",
   "metadata": {},
   "source": [
    "## Clean data"
   ]
  },
  {
   "cell_type": "code",
   "execution_count": 2,
   "id": "49e7221f",
   "metadata": {},
   "outputs": [],
   "source": [
    "df_88 = pd.read_csv('data/raw/19880824_19880916_20191118.csv', skiprows=3, sep=' ', header=None)\n",
    "df_92 = pd.read_csv('data/raw/19920904_19920927_20191118.csv', skiprows=3, sep=' ', header=None)\n",
    "df_96 = pd.read_csv('data/raw/19961008_19961017_20191119.csv', skiprows=3, sep=' ', header=None)\n",
    "df_00 = pd.read_csv('data/raw/20000918_20000925_20191119_gapfilled_20200126.csv', skiprows=3, sep=' ', header=None)\n",
    "df_04 = pd.read_csv('data/raw/20040921_20041014_20191119.csv', skiprows=3, sep=' ', header=None)\n",
    "df_08 = pd.read_csv('data/raw/20080831_20080923_20191119.csv', skiprows=3, sep=' ', header=None)\n",
    "df_12 = pd.read_csv('data/raw/20120910_20121106_20191119.csv', skiprows=3, sep=' ', header=None)\n",
    "df_16 = pd.read_csv('data/raw/20160906_20160913_20191119.csv', skiprows=3, sep=' ', header=None)\n",
    "df_19 = pd.read_csv('data/raw/20190814_20190813_20200121_gapfilled_20200123.csv', skiprows=3, sep=' ', header=None)"
   ]
  },
  {
   "cell_type": "code",
   "execution_count": 3,
   "id": "080d8aa5",
   "metadata": {},
   "outputs": [],
   "source": [
    "# list all dataframes\n",
    "all_dfs = [df_88, df_92, df_96, df_00, df_04, df_08, df_12, df_16, df_19]"
   ]
  },
  {
   "cell_type": "code",
   "execution_count": 4,
   "id": "47fd7807",
   "metadata": {},
   "outputs": [],
   "source": [
    "# rename columns in all dataframes\n",
    "for each_df in all_dfs:\n",
    "    each_df.rename({\n",
    "        0: 'northings_y',\n",
    "        1: 'latitude',\n",
    "        2: 'eastings_x',\n",
    "        3: 'longitude',\n",
    "        4: 'kelp_fraction' \n",
    "    }, axis='columns', inplace=True)"
   ]
  },
  {
   "cell_type": "code",
   "execution_count": 5,
   "id": "8ea4b1b7",
   "metadata": {},
   "outputs": [],
   "source": [
    "# create variable for area where kelp was counted\n",
    "# kelp fraction: percent of kelp signal in each Landsat pixel (900 m2) -> kelp area: kelp fraction multiplied by 900\n",
    "for each_df in all_dfs:\n",
    "    each_df['area'] = each_df['kelp_fraction']*900"
   ]
  },
  {
   "cell_type": "code",
   "execution_count": 6,
   "id": "d4d7db78",
   "metadata": {},
   "outputs": [],
   "source": [
    "# save all dataframes\n",
    "df_88.to_csv('data/clean/1988.csv', index=False)\n",
    "df_92.to_csv('data/clean/1992.csv', index=False)\n",
    "df_96.to_csv('data/clean/1996.csv', index=False)\n",
    "df_00.to_csv('data/clean/2000.csv', index=False)\n",
    "df_04.to_csv('data/clean/2004.csv', index=False)\n",
    "df_08.to_csv('data/clean/2008.csv', index=False)\n",
    "df_12.to_csv('data/clean/2012.csv', index=False)\n",
    "df_16.to_csv('data/clean/2016.csv', index=False)\n",
    "df_19.to_csv('data/clean/2019.csv', index=False)"
   ]
  },
  {
   "cell_type": "markdown",
   "id": "48a767dd",
   "metadata": {},
   "source": [
    "## Stack dataframes"
   ]
  },
  {
   "cell_type": "code",
   "execution_count": 7,
   "id": "74a07b55",
   "metadata": {},
   "outputs": [],
   "source": [
    "# add 'year' column to all of them\n",
    "df_88['year'] = '1988'\n",
    "df_92['year'] = '1992'\n",
    "df_96['year'] = '1996'\n",
    "df_00['year'] = '2000'\n",
    "df_04['year'] = '2004'\n",
    "df_08['year'] = '2008'\n",
    "df_12['year'] = '2012'\n",
    "df_16['year'] = '2016'\n",
    "df_19['year'] = '2019'"
   ]
  },
  {
   "cell_type": "code",
   "execution_count": 8,
   "id": "b8d37d7a",
   "metadata": {},
   "outputs": [],
   "source": [
    "# concat all dataframes\n",
    "df = pd.concat(all_dfs)"
   ]
  },
  {
   "cell_type": "markdown",
   "id": "2eb60758",
   "metadata": {},
   "source": [
    "## Kelp area over time"
   ]
  },
  {
   "cell_type": "code",
   "execution_count": 9,
   "id": "48d65602",
   "metadata": {},
   "outputs": [
    {
     "data": {
      "text/html": [
       "<div>\n",
       "<style scoped>\n",
       "    .dataframe tbody tr th:only-of-type {\n",
       "        vertical-align: middle;\n",
       "    }\n",
       "\n",
       "    .dataframe tbody tr th {\n",
       "        vertical-align: top;\n",
       "    }\n",
       "\n",
       "    .dataframe thead th {\n",
       "        text-align: right;\n",
       "    }\n",
       "</style>\n",
       "<table border=\"1\" class=\"dataframe\">\n",
       "  <thead>\n",
       "    <tr style=\"text-align: right;\">\n",
       "      <th></th>\n",
       "      <th>year</th>\n",
       "      <th>area</th>\n",
       "    </tr>\n",
       "  </thead>\n",
       "  <tbody>\n",
       "    <tr>\n",
       "      <th>0</th>\n",
       "      <td>1988</td>\n",
       "      <td>3515246.541</td>\n",
       "    </tr>\n",
       "    <tr>\n",
       "      <th>1</th>\n",
       "      <td>1992</td>\n",
       "      <td>818727.012</td>\n",
       "    </tr>\n",
       "    <tr>\n",
       "      <th>2</th>\n",
       "      <td>1996</td>\n",
       "      <td>846411.237</td>\n",
       "    </tr>\n",
       "    <tr>\n",
       "      <th>3</th>\n",
       "      <td>2000</td>\n",
       "      <td>948566.061</td>\n",
       "    </tr>\n",
       "    <tr>\n",
       "      <th>4</th>\n",
       "      <td>2004</td>\n",
       "      <td>783228.024</td>\n",
       "    </tr>\n",
       "    <tr>\n",
       "      <th>5</th>\n",
       "      <td>2008</td>\n",
       "      <td>4301763.705</td>\n",
       "    </tr>\n",
       "    <tr>\n",
       "      <th>6</th>\n",
       "      <td>2012</td>\n",
       "      <td>3986266.950</td>\n",
       "    </tr>\n",
       "    <tr>\n",
       "      <th>7</th>\n",
       "      <td>2016</td>\n",
       "      <td>143071.371</td>\n",
       "    </tr>\n",
       "    <tr>\n",
       "      <th>8</th>\n",
       "      <td>2019</td>\n",
       "      <td>10896.750</td>\n",
       "    </tr>\n",
       "  </tbody>\n",
       "</table>\n",
       "</div>"
      ],
      "text/plain": [
       "   year         area\n",
       "0  1988  3515246.541\n",
       "1  1992   818727.012\n",
       "2  1996   846411.237\n",
       "3  2000   948566.061\n",
       "4  2004   783228.024\n",
       "5  2008  4301763.705\n",
       "6  2012  3986266.950\n",
       "7  2016   143071.371\n",
       "8  2019    10896.750"
      ]
     },
     "execution_count": 9,
     "metadata": {},
     "output_type": "execute_result"
    }
   ],
   "source": [
    "df_area_year = df.groupby('year').area.sum().reset_index()\n",
    "df_area_year"
   ]
  },
  {
   "cell_type": "code",
   "execution_count": 10,
   "id": "38f6b783",
   "metadata": {},
   "outputs": [
    {
     "data": {
      "text/plain": [
       "<AxesSubplot:xlabel='year'>"
      ]
     },
     "execution_count": 10,
     "metadata": {},
     "output_type": "execute_result"
    },
    {
     "data": {
      "image/png": "[encoded data removed]",
      "text/plain": [
       "<Figure size 432x288 with 1 Axes>"
      ]
     },
     "metadata": {
      "needs_background": "light"
     },
     "output_type": "display_data"
    }
   ],
   "source": [
    "df.groupby('year').area.sum().plot()"
   ]
  },
  {
   "cell_type": "code",
   "execution_count": 11,
   "id": "80baaa15",
   "metadata": {},
   "outputs": [],
   "source": [
    "# df_area_year.to_csv('data/clean/kelp-area-by-year.csv', index=False)"
   ]
  },
  {
   "cell_type": "markdown",
   "id": "b8add5e3",
   "metadata": {},
   "source": [
    "# Number of kelp locations over time"
   ]
  },
  {
   "cell_type": "code",
   "execution_count": 13,
   "id": "86de3c3a",
   "metadata": {},
   "outputs": [
    {
     "data": {
      "text/html": [
       "<div>\n",
       "<style scoped>\n",
       "    .dataframe tbody tr th:only-of-type {\n",
       "        vertical-align: middle;\n",
       "    }\n",
       "\n",
       "    .dataframe tbody tr th {\n",
       "        vertical-align: top;\n",
       "    }\n",
       "\n",
       "    .dataframe thead th {\n",
       "        text-align: right;\n",
       "    }\n",
       "</style>\n",
       "<table border=\"1\" class=\"dataframe\">\n",
       "  <thead>\n",
       "    <tr style=\"text-align: right;\">\n",
       "      <th></th>\n",
       "      <th>year</th>\n",
       "      <th>count</th>\n",
       "    </tr>\n",
       "  </thead>\n",
       "  <tbody>\n",
       "    <tr>\n",
       "      <th>2</th>\n",
       "      <td>1988</td>\n",
       "      <td>6968</td>\n",
       "    </tr>\n",
       "    <tr>\n",
       "      <th>6</th>\n",
       "      <td>1992</td>\n",
       "      <td>1843</td>\n",
       "    </tr>\n",
       "    <tr>\n",
       "      <th>4</th>\n",
       "      <td>1996</td>\n",
       "      <td>2112</td>\n",
       "    </tr>\n",
       "    <tr>\n",
       "      <th>3</th>\n",
       "      <td>2000</td>\n",
       "      <td>2274</td>\n",
       "    </tr>\n",
       "    <tr>\n",
       "      <th>5</th>\n",
       "      <td>2004</td>\n",
       "      <td>2112</td>\n",
       "    </tr>\n",
       "    <tr>\n",
       "      <th>0</th>\n",
       "      <td>2008</td>\n",
       "      <td>8457</td>\n",
       "    </tr>\n",
       "    <tr>\n",
       "      <th>1</th>\n",
       "      <td>2012</td>\n",
       "      <td>8015</td>\n",
       "    </tr>\n",
       "    <tr>\n",
       "      <th>7</th>\n",
       "      <td>2016</td>\n",
       "      <td>334</td>\n",
       "    </tr>\n",
       "    <tr>\n",
       "      <th>8</th>\n",
       "      <td>2019</td>\n",
       "      <td>20</td>\n",
       "    </tr>\n",
       "  </tbody>\n",
       "</table>\n",
       "</div>"
      ],
      "text/plain": [
       "   year  count\n",
       "2  1988   6968\n",
       "6  1992   1843\n",
       "4  1996   2112\n",
       "3  2000   2274\n",
       "5  2004   2112\n",
       "0  2008   8457\n",
       "1  2012   8015\n",
       "7  2016    334\n",
       "8  2019     20"
      ]
     },
     "execution_count": 13,
     "metadata": {},
     "output_type": "execute_result"
    }
   ],
   "source": [
    "# number of points where kelp was counted by year\n",
    "df_count_year = df.year.value_counts().reset_index()\n",
    "df_count_year.rename({'index': 'year', 'year': 'count'}, axis='columns', inplace=True)\n",
    "df_count_year = df_count_year.sort_values('year')\n",
    "df_count_year"
   ]
  },
  {
   "cell_type": "code",
   "execution_count": 14,
   "id": "e6c1f3b8",
   "metadata": {},
   "outputs": [
    {
     "data": {
      "text/plain": [
       "[<matplotlib.lines.Line2D at 0x1116c56d0>]"
      ]
     },
     "execution_count": 14,
     "metadata": {},
     "output_type": "execute_result"
    },
    {
     "data": {
      "image/png": "[encoded data removed]",
      "text/plain": [
       "<Figure size 432x288 with 1 Axes>"
      ]
     },
     "metadata": {
      "needs_background": "light"
     },
     "output_type": "display_data"
    }
   ],
   "source": [
    "plt.plot(df_count_year['year'], df_count_year['count'])"
   ]
  },
  {
   "cell_type": "code",
   "execution_count": 15,
   "id": "17f05ae5",
   "metadata": {},
   "outputs": [],
   "source": [
    "# df_count_year.to_csv('data/clean/kelp-count-by-year.csv', index=False)"
   ]
  }
 ],
 "metadata": {
  "kernelspec": {
   "display_name": "Python 3 (ipykernel)",
   "language": "python",
   "name": "python3"
  },
  "language_info": {
   "codemirror_mode": {
    "name": "ipython",
    "version": 3
   },
   "file_extension": ".py",
   "mimetype": "text/x-python",
   "name": "python",
   "nbconvert_exporter": "python",
   "pygments_lexer": "ipython3",
   "version": "3.9.7"
  }
 },
 "nbformat": 4,
 "nbformat_minor": 5
}
